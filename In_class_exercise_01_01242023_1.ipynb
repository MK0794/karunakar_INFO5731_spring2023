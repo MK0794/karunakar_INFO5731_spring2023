{
  "cells": [
    {
      "cell_type": "markdown",
      "metadata": {
        "id": "view-in-github",
        "colab_type": "text"
      },
      "source": [
        "<a href=\"https://colab.research.google.com/github/MK0794/karunakar_INFO5731_spring2023/blob/main/In_class_exercise_01_01242023_1.ipynb\" target=\"_parent\"><img src=\"https://colab.research.google.com/assets/colab-badge.svg\" alt=\"Open In Colab\"/></a>"
      ]
    },
    {
      "cell_type": "markdown",
      "metadata": {
        "id": "DymRJbxDBCnf"
      },
      "source": [
        "# **The first In-class-exercise (01/24/2023, 40 points in total)**"
      ]
    },
    {
      "cell_type": "markdown",
      "metadata": {
        "id": "03jb4GZsBkBS"
      },
      "source": [
        "(1) Write a Python program to calculate the length of a string. (4 points)"
      ]
    },
    {
      "cell_type": "code",
      "execution_count": 10,
      "metadata": {
        "colab": {
          "base_uri": "https://localhost:8080/"
        },
        "id": "YaGLbSHHB8Ej",
        "outputId": "29109ab1-d3a4-4014-f5a0-212880d46a9e"
      },
      "outputs": [
        {
          "output_type": "stream",
          "name": "stdout",
          "text": [
            "29\n"
          ]
        }
      ],
      "source": [
        "# write your answer here\n",
        "def stringlength(s):\n",
        "    count = 0\n",
        "    for i in s:\n",
        "        count += 1\n",
        "    return count\n",
        "\n",
        "print(stringlength(\"Welcome to python programming\"))\n",
        "\n"
      ]
    },
    {
      "cell_type": "markdown",
      "metadata": {
        "id": "jJDe71iLB616"
      },
      "source": [
        "(2) Write a Python program to count the number of characters in a string. (4 points)\n",
        "\n",
        "Sample String : 'google.com‘, \n",
        "\n",
        "Expected Result : {'o': 3, 'g': 2, '.': 1, 'e': 1, 'l': 1, 'm': 1, 'c': 1}"
      ]
    },
    {
      "cell_type": "code",
      "execution_count": 11,
      "metadata": {
        "colab": {
          "base_uri": "https://localhost:8080/"
        },
        "id": "MtKskTzbCLaU",
        "outputId": "9473b50d-eba3-496b-b1be-812b2684ca67"
      },
      "outputs": [
        {
          "output_type": "stream",
          "name": "stdout",
          "text": [
            "{'y': 1, 'a': 1, 'h': 1, 'o': 3, '.': 1, 'c': 1, 'm': 1}\n"
          ]
        }
      ],
      "source": [
        "# write your answer here\n",
        "def countnoofcharacters(s):\n",
        "    count = {}\n",
        "    for i in s:\n",
        "        if i in count:\n",
        "            count[i] += 1\n",
        "        else:\n",
        "            count[i] = 1\n",
        "    return count\n",
        "\n",
        "print(countnoofcharacters(\"yahoo.com\")) \n"
      ]
    },
    {
      "cell_type": "markdown",
      "metadata": {
        "id": "55W9AMdXCSpV"
      },
      "source": [
        "(3) Write a Python program to sum all the items in a list. (4 points)"
      ]
    },
    {
      "cell_type": "code",
      "execution_count": 12,
      "metadata": {
        "colab": {
          "base_uri": "https://localhost:8080/"
        },
        "id": "I57NXsauCec2",
        "outputId": "65e50933-42a6-4693-b858-3459bfe75206"
      },
      "outputs": [
        {
          "output_type": "stream",
          "name": "stdout",
          "text": [
            "169\n"
          ]
        }
      ],
      "source": [
        "# write your answer here\n",
        "def sumoflist(lst):\n",
        "    result = 0\n",
        "    for i in lst:\n",
        "        result += i\n",
        "    return result\n",
        "\n",
        "print(sumoflist([11, 21, 33, 46, 58]))"
      ]
    },
    {
      "cell_type": "markdown",
      "metadata": {
        "id": "4ulBZ6yhCi9F"
      },
      "source": [
        "(4) Write a Python program to get a string from a given string where all occurrences of its first char have been changed to '\\$', except the first char itself. (4 points)\n",
        "\n",
        "Sample String : 'restart‘, \n",
        "\n",
        "Expected Result : 'resta\\$t'"
      ]
    },
    {
      "cell_type": "code",
      "execution_count": 15,
      "metadata": {
        "colab": {
          "base_uri": "https://localhost:8080/"
        },
        "id": "Fj0XhwbBCw2o",
        "outputId": "6144531a-189d-4ebc-a85e-51db54a79f7a"
      },
      "outputs": [
        {
          "output_type": "stream",
          "name": "stdout",
          "text": [
            "rep$ese$nt\n"
          ]
        }
      ],
      "source": [
        "# write your answer here\n",
        "def replace_character(s):\n",
        "    first_char = s[0]\n",
        "    new_str = s[0]\n",
        "    for i in range(1, len(s)):\n",
        "        if s[i] == first_char:\n",
        "            new_str += \"$\"\n",
        "        else:\n",
        "            new_str += s[i]\n",
        "    return new_str\n",
        "\n",
        "print(replace_character(\"represernt\"))\n"
      ]
    },
    {
      "cell_type": "markdown",
      "metadata": {
        "id": "_bIP7s1MCzue"
      },
      "source": [
        "(5) Write a program with python which could accept two parameter a and b to calculate and output the result of S, where \n",
        "\n",
        "$\\ S=3.14*(1+a/b)^3$ (4 points)\n",
        "\n"
      ]
    },
    {
      "cell_type": "code",
      "execution_count": 17,
      "metadata": {
        "colab": {
          "base_uri": "https://localhost:8080/"
        },
        "id": "w79QilHXD3Mg",
        "outputId": "64a4409a-934c-4bea-9359-1a0be353cd99"
      },
      "outputs": [
        {
          "output_type": "stream",
          "name": "stdout",
          "text": [
            "10.5975\n"
          ]
        }
      ],
      "source": [
        "# write your answer here\n",
        "def calculate_S(a, b):\n",
        "    S = 3.14 * (1 + (a/b))**3\n",
        "    return S\n",
        "\n",
        "print(calculate_S(3, 6))"
      ]
    },
    {
      "cell_type": "markdown",
      "metadata": {
        "id": "xCa2bK9aD4Q3"
      },
      "source": [
        "(6) Write a Python program to concatenate following dictionaries to create a new one. (4 points)\n",
        "\n",
        "Sample Dictionary : dic1={1:10, 2:20}, dic2={3:30, 4:40}, dic3={5:50,6:60}, \n",
        "\n",
        "Expected Result : {1: 10, 2: 20, 3: 30, 4: 40, 5: 50, 6: 60}\n"
      ]
    },
    {
      "cell_type": "code",
      "execution_count": 18,
      "metadata": {
        "colab": {
          "base_uri": "https://localhost:8080/"
        },
        "id": "_z4aLqAbEET1",
        "outputId": "e8bf34fd-e069-4dcc-ab44-70560fa37d9b"
      },
      "outputs": [
        {
          "output_type": "stream",
          "name": "stdout",
          "text": [
            "{1: 10, 2: 20, 3: 30, 4: 40, 5: 50, 6: 60}\n"
          ]
        }
      ],
      "source": [
        "# write your answer here\n",
        "def concat_dictionaries(dic1, dic2, dic3):\n",
        "    result = {}\n",
        "    for key in dic1:\n",
        "        result[key] = dic1[key]\n",
        "    for key in dic2:\n",
        "        result[key] = dic2[key]\n",
        "    for key in dic3:\n",
        "        result[key] = dic3[key]\n",
        "    return result\n",
        "\n",
        "dic1={1:10, 2:20}\n",
        "dic2={3:30, 4:40}\n",
        "dic3={5:50,6:60}\n",
        "print(concat_dictionaries(dic1, dic2, dic3))"
      ]
    },
    {
      "cell_type": "markdown",
      "metadata": {
        "id": "0v48Vqa7FrQh"
      },
      "source": [
        "(7) Write a Python program to check whether an element exists within a tuple. (4 points)"
      ]
    },
    {
      "cell_type": "code",
      "execution_count": 19,
      "metadata": {
        "colab": {
          "base_uri": "https://localhost:8080/"
        },
        "id": "7WEmgq-DF2P1",
        "outputId": "b514d39e-6b54-4122-c885-59224d34f0b1"
      },
      "outputs": [
        {
          "output_type": "stream",
          "name": "stdout",
          "text": [
            "True\n",
            "False\n"
          ]
        }
      ],
      "source": [
        "# write your answer here\n",
        "def check_element_in_tuple(tup, element):\n",
        "    for i in range(len(tup)):\n",
        "        if tup[i] == element:\n",
        "            return True\n",
        "    return False\n",
        "\n",
        "my_tuple = (1, 2, 3, 4, 5)\n",
        "print(check_element_in_tuple(my_tuple, 3))\n",
        "print(check_element_in_tuple(my_tuple, 6)) \n",
        "\n"
      ]
    },
    {
      "cell_type": "markdown",
      "metadata": {
        "id": "vD5PYLMuGga_"
      },
      "source": [
        "(8) Write a Python program to find maximum and the minimum value in a set. (4 points)"
      ]
    },
    {
      "cell_type": "code",
      "execution_count": 23,
      "metadata": {
        "colab": {
          "base_uri": "https://localhost:8080/"
        },
        "id": "t0D5kdJUGjjw",
        "outputId": "f035c7b4-a78c-427a-f586-bf6f51590150"
      },
      "outputs": [
        {
          "output_type": "stream",
          "name": "stdout",
          "text": [
            "(1, 5)\n"
          ]
        }
      ],
      "source": [
        "# write your answer here\n",
        "def min_max_Val_set(s):\n",
        "    min_val = float('inf')\n",
        "    max_val = float('-inf')\n",
        "    for val in s:\n",
        "        if val < min_val:\n",
        "            min_val = val\n",
        "        if val > max_val:\n",
        "            max_val = val\n",
        "    return min_val, max_val\n",
        "\n",
        "my_set = {1, 2, 3, 4, 5}\n",
        "print(min_max_Val_set(my_set)) \n"
      ]
    },
    {
      "cell_type": "markdown",
      "metadata": {
        "id": "uHkd-y5VhVWC"
      },
      "source": [
        "(9) Write a Python program to randomly divide the students in this class into six groups for term projects, each group should have at least 4 students but no more than 6 students (including 6). Here is the students list: (4 points)\n",
        "\n",
        "studnet_list = ['ja0964','sa1198','sb1357','vb0218','sc1229','kg0569','kg0470','sg1297','bg0320','fh0141','jl1252','sk1386',\n",
        "           'ak0956','sk1390','sk1458','sk1313','ak0934','vm0377','nm0618','sm1640','sm1907','gn0108','pr0353','dr0609','ms1500','aos0040','ds0814', 'av0659','nv0234','hy0232']"
      ]
    },
    {
      "cell_type": "code",
      "execution_count": 24,
      "metadata": {
        "colab": {
          "base_uri": "https://localhost:8080/"
        },
        "id": "3iGbmcOBhTwy",
        "outputId": "8500c8b6-12f9-4d05-b04c-9beb61c8a742"
      },
      "outputs": [
        {
          "output_type": "stream",
          "name": "stdout",
          "text": [
            "Group 1: ['ja0964', 'kg0569', 'jl1252', 'sk1313', 'sm1907', 'aos0040']\n",
            "Group 2: ['sa1198', 'kg0470', 'sk1386', 'ak0934', 'gn0108', 'ds0814']\n",
            "Group 3: ['sb1357', 'sg1297', 'ak0956', 'vm0377', 'pr0353', 'av0659']\n",
            "Group 4: ['vb0218', 'bg0320', 'sk1390', 'nm0618', 'dr0609', 'nv0234']\n",
            "Group 5: ['sc1229', 'fh0141', 'sk1458', 'sm1640', 'ms1500', 'hy0232']\n"
          ]
        }
      ],
      "source": [
        "# write your answer here\n",
        "import random\n",
        "student_list = ['ja0964','sa1198','sb1357','vb0218','sc1229','kg0569','kg0470','sg1297','bg0320','fh0141','jl1252','sk1386', 'ak0956','sk1390','sk1458','sk1313','ak0934','vm0377','nm0618','sm1640','sm1907','gn0108','pr0353','dr0609','ms1500','aos0040','ds0814', 'av0659','nv0234','hy0232']\n",
        "group_size = 6\n",
        "num_groups = len(student_list)//group_size + (len(student_list)%group_size != 0)\n",
        "groups = [[] for _ in range(num_groups)]\n",
        "\n",
        "for i, student in enumerate(student_list):\n",
        "    groups[i%num_groups].append(student)\n",
        "\n",
        "for i, group in enumerate(groups):\n",
        "    print(\"Group {}: {}\".format(i+1, group))\n"
      ]
    },
    {
      "cell_type": "markdown",
      "metadata": {
        "id": "eGhwd5UEdlZ6"
      },
      "source": [
        "(10) Write a Python program to find the duplicate elements in a given array of integers. Return -1 If there are no such elements. (4 points)"
      ]
    },
    {
      "cell_type": "code",
      "execution_count": 27,
      "metadata": {
        "colab": {
          "base_uri": "https://localhost:8080/"
        },
        "id": "QjECj63ydlZ6",
        "outputId": "79388ba7-59f2-4412-9f43-f11b49e1f087"
      },
      "outputs": [
        {
          "output_type": "stream",
          "name": "stdout",
          "text": [
            "3\n"
          ]
        }
      ],
      "source": [
        "# write your answer here\n",
        "def find_duplicate(arr):\n",
        "    d = {}\n",
        "    for i in arr:\n",
        "        if i in d:\n",
        "            return i\n",
        "        else:\n",
        "            d[i] = 1\n",
        "    return -1\n",
        "\n",
        "arr = [1, 2, 4, 5,3,3, 6, 7, 8, 9]\n",
        "print(find_duplicate(arr))\n",
        "\n"
      ]
    },
    {
      "cell_type": "markdown",
      "metadata": {
        "id": "gnMv8pdwdlZ6"
      },
      "source": [
        "(11) Write a Python program to select all the Sundays of a specified year. (4 extra points)"
      ]
    },
    {
      "cell_type": "code",
      "execution_count": 32,
      "metadata": {
        "colab": {
          "base_uri": "https://localhost:8080/"
        },
        "id": "AYb-OuMOdlZ7",
        "outputId": "24131511-774c-495e-a17c-405eb06387d5"
      },
      "outputs": [
        {
          "output_type": "stream",
          "name": "stdout",
          "text": [
            "[('January', 3), ('January', 10), ('January', 17), ('January', 24), ('January', 31), ('February', 7), ('February', 14), ('February', 21), ('February', 28), ('March', 6), ('March', 13), ('March', 20), ('March', 27), ('April', 3), ('April', 10), ('April', 17), ('April', 24), ('May', 1), ('May', 8), ('May', 15), ('May', 22), ('May', 29), ('June', 5), ('June', 12), ('June', 19), ('June', 26), ('July', 3), ('July', 10), ('July', 17), ('July', 24), ('July', 31), ('August', 7), ('August', 14), ('August', 21), ('August', 28), ('September', 4), ('September', 11), ('September', 18), ('September', 25), ('October', 2), ('October', 9), ('October', 16), ('October', 23), ('October', 30), ('November', 6), ('November', 13), ('November', 20), ('November', 27), ('December', 4), ('December', 11), ('December', 18), ('December', 25)]\n"
          ]
        }
      ],
      "source": [
        "# write your answer here\n",
        "import calendar\n",
        "\n",
        "def sundays_of_particular_year(year):\n",
        "    sundays = []\n",
        "    for month in range(1,13):\n",
        "        c = calendar.monthcalendar(year, month)\n",
        "        for week in c:\n",
        "            if week[calendar.SUNDAY]:\n",
        "                sundays.append((calendar.month_name[month],week[calendar.SUNDAY]))\n",
        "    return sundays\n",
        "\n",
        "year = 2016\n",
        "print(sundays_of_particular_year(year))\n"
      ]
    }
  ],
  "metadata": {
    "colab": {
      "provenance": [],
      "include_colab_link": true
    },
    "kernelspec": {
      "display_name": "Python 3 (ipykernel)",
      "language": "python",
      "name": "python3"
    },
    "language_info": {
      "codemirror_mode": {
        "name": "ipython",
        "version": 3
      },
      "file_extension": ".py",
      "mimetype": "text/x-python",
      "name": "python",
      "nbconvert_exporter": "python",
      "pygments_lexer": "ipython3",
      "version": "3.9.12"
    }
  },
  "nbformat": 4,
  "nbformat_minor": 0
}